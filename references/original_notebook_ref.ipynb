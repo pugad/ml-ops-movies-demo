{
  "nbformat": 4,
  "nbformat_minor": 0,
  "metadata": {
    "colab": {
      "name": "Copy of [New] Machine Learning Basics - Public.ipynb",
      "provenance": [],
      "collapsed_sections": []
    },
    "kernelspec": {
      "name": "python3",
      "display_name": "Python 3"
    }
  },
  "cells": [
    {
      "cell_type": "markdown",
      "metadata": {
        "id": "dQde2o3Ftx_v"
      },
      "source": [
        "# Machine Learning Basics\n",
        "## Box Office Data\n",
        "\n",
        "Today, we will be exploring fundamental concepts of machine learning.\n",
        "\n",
        "__Question:__ How much gross revenue will a new movie make?\n",
        "\n",
        "__Data Set:__ Information from past movies and their gross revenue, including:\n",
        "- Actor and director information\n",
        "- Movie length \n",
        "- Budget\n",
        "\n",
        "__Goal:__ Use the data from the past to build a predictive model to help us predict how much revenue a movie will make\n",
        "\n",
        "\n",
        "You will need to add some code to complete this notebook.  Follow along with the instructor to find what code to add.  You will add that where the code says \"\\*\\*\\* ADD CODE HERE\\*\\*\\*\"\n",
        "\n",
        "Have fun and good luck coding!"
      ]
    },
    {
      "cell_type": "markdown",
      "metadata": {
        "id": "3hwgX0d-XCdR"
      },
      "source": [
        "> To execute a line or block of code, simply click the \"Play\" button on the left side or use the keyboard shortcut \"Shift + Enter\"\n",
        "> When that code block has actually been executed, the blank brackets will change to have a number inside of them."
      ]
    },
    {
      "cell_type": "code",
      "metadata": {
        "id": "Pkw0QgMyW-Ay",
        "colab": {
          "base_uri": "https://localhost:8080/"
        },
        "outputId": "8725d77a-94a3-4d77-d268-4c485bb505b3"
      },
      "source": [
        "x = 42\n",
        "print(x)"
      ],
      "execution_count": null,
      "outputs": [
        {
          "output_type": "stream",
          "name": "stdout",
          "text": [
            "42\n"
          ]
        }
      ]
    },
    {
      "cell_type": "markdown",
      "metadata": {
        "id": "4VSyLiB2jkXy"
      },
      "source": [
        "## Importing the packages that we'll need\n",
        "\n",
        "One of the things that makes Python **great** for data science is all of the different libraries that exist so we don't have to code them from scratch. Tonight we'll be taking advantage of:\n",
        "- [Numpy](https://numpy.org/) for scientific and mathematical computing\n",
        "- [Pandas](https://pandas.pydata.org/) for data wrangling and analysis\n",
        "- [Matplotlib](https://matplotlib.org/) for plotting and visualizations\n",
        "- [Sklearn](https://scikit-learn.org/stable/) for all things machine learning"
      ]
    },
    {
      "cell_type": "code",
      "metadata": {
        "id": "XkkokDMOt221"
      },
      "source": [
        "# data analysis packages\n",
        "import numpy as np\n",
        "import pandas as pd\n",
        "\n",
        "# plotting package\n",
        "import matplotlib.pyplot as plt\n",
        "\n",
        "# machine learning\n",
        "from sklearn.model_selection import train_test_split\n",
        "from sklearn.metrics import mean_squared_error"
      ],
      "execution_count": null,
      "outputs": []
    },
    {
      "cell_type": "markdown",
      "metadata": {
        "id": "hL8FF6AExTtt"
      },
      "source": [
        "## Import the data\n",
        "Pandas can work with information from all kinds of data sources. Below, we'll import the data we need from a GitHub URL and read it into a Pandas Dataframe using the Pandas [`read_csv`](https://pandas.pydata.org/pandas-docs/stable/reference/api/pandas.read_csv.html) function."
      ]
    },
    {
      "cell_type": "code",
      "metadata": {
        "id": "KQusb-oRuC8I"
      },
      "source": [
        "# import data from github\n",
        "data = pd.read_csv(\"https://github.com/autumntoney/predict_the_box_office/raw/master/movie_metadata.csv\")"
      ],
      "execution_count": null,
      "outputs": []
    },
    {
      "cell_type": "markdown",
      "metadata": {
        "id": "mI9J_ZlDHezH"
      },
      "source": [
        "## Data Cleaning and Feature Engineering\n",
        "\n",
        "The data we just imported is not ready for modeling, so we will clean the data by removing duplicates and imputing or dropping missing values.  \n",
        "\n",
        "Then, using the cleaned data, we will engineer some features to hopefully improve our predictions.\n",
        "\n",
        "*Note: We won't get into this code in depth, but we wanted to provide the original data so you can go back to it if you wanted to clean it and/or engineer more features.* "
      ]
    },
    {
      "cell_type": "code",
      "metadata": {
        "id": "A8jknTusBVcY",
        "colab": {
          "base_uri": "https://localhost:8080/",
          "height": 317
        },
        "outputId": "e73352ba-1e3c-4232-be2f-3777e2a5768b"
      },
      "source": [
        "# DATA CLEANING\n",
        "# Rename columns to include units\n",
        "data.rename(columns={'duration': 'duration_mins',\n",
        "                    'budget': 'budget_usd',\n",
        "                    'gross': 'gross_usd'}, inplace=True)\n",
        "\n",
        "# Drop all duplicate movie titles that were released in the same year\n",
        "data = data.drop_duplicates(subset=['movie_title', 'title_year'], keep='first').copy()\n",
        "\n",
        "# Drop the aspect ratio column,  axis=1 means drop the column\n",
        "data.drop('aspect_ratio', axis=1, inplace=True)\n",
        "\n",
        "# Drop all null values of gross\n",
        "# You will be predicting this value\n",
        "# so don't want to impute these values (skew the analysis)\n",
        "data.dropna(subset=['gross_usd'], how='all', inplace=True)\n",
        "\n",
        "# Drop movies where the year is missing\n",
        "data.dropna(subset=['title_year'], how='all', inplace=True)\n",
        "# Convert all years to integers\n",
        "data['title_year'] = data['title_year'].astype(int)\n",
        "\n",
        "# Calculate median budgets per year\n",
        "# Impute the median budgets per year for missing budget data\n",
        "data['budget_usd'] = data['budget_usd'].fillna(data.groupby('title_year')['budget_usd'].transform('median'))\n",
        "\n",
        "# Drop the remaining row that is missing budget\n",
        "# (no other movies from 1942 in the dataset)\n",
        "data.dropna(subset=['budget_usd'], axis=0, inplace=True)\n",
        "\n",
        "# Find how many movies are in each country in the data\n",
        "counts = data['country'].value_counts()\n",
        "# Select the data from only the top 3 countries\n",
        "data = data[data['country'].isin(counts.nlargest(3).index)].copy()\n",
        "\n",
        "# Dropping all remaining rows that have null values\n",
        "data.dropna(axis=0, inplace=True)\n",
        "\n",
        "# FEATURE ENGINEERING\n",
        "# Identify all movie counts, select all star actors\n",
        "lead_movie_counts = data['actor_1_name'].value_counts()\n",
        "star_actors = lead_movie_counts[lead_movie_counts >= 20].index\n",
        "# Set `lead_star` = 1 if actor is in star_actors, otherwise 0\n",
        "data['lead_star'] = [1 if x in star_actors else 0 for x in data['actor_1_name']]\n",
        "\n",
        "\n",
        "data = data[['num_voted_users',\n",
        "'budget_usd',\n",
        "'content_rating',\n",
        "'title_year',\n",
        "'duration_mins',\n",
        "'actor_3_facebook_likes',\n",
        "'cast_total_facebook_likes',\n",
        "'director_facebook_likes',\n",
        "'actor_1_facebook_likes',\n",
        "'actor_2_facebook_likes',\n",
        "'gross_usd']]\n",
        "\n",
        "# Encoding ratings as dummy variables\n",
        "content_ratings = pd.get_dummies(data['content_rating'])\n",
        "# Merge the encoded data back on to the original data\n",
        "data = data.join(content_ratings)\n",
        "\n",
        "# Select columns by data type - number\n",
        "numerical_data = data.select_dtypes(include='number')\n",
        "numerical_data.head()"
      ],
      "execution_count": null,
      "outputs": [
        {
          "output_type": "execute_result",
          "data": {
            "text/plain": [
              "   num_voted_users   budget_usd  title_year  duration_mins  \\\n",
              "0           886204  237000000.0        2009          178.0   \n",
              "1           471220  300000000.0        2007          169.0   \n",
              "2           275868  245000000.0        2015          148.0   \n",
              "3          1144337  250000000.0        2012          164.0   \n",
              "5           212204  263700000.0        2012          132.0   \n",
              "\n",
              "   actor_3_facebook_likes  cast_total_facebook_likes  director_facebook_likes  \\\n",
              "0                   855.0                       4834                      0.0   \n",
              "1                  1000.0                      48350                    563.0   \n",
              "2                   161.0                      11700                      0.0   \n",
              "3                 23000.0                     106759                  22000.0   \n",
              "5                   530.0                       1873                    475.0   \n",
              "\n",
              "   actor_1_facebook_likes  actor_2_facebook_likes    gross_usd  ...  GP  M  \\\n",
              "0                  1000.0                   936.0  760505847.0  ...   0  0   \n",
              "1                 40000.0                  5000.0  309404152.0  ...   0  0   \n",
              "2                 11000.0                   393.0  200074175.0  ...   0  0   \n",
              "3                 27000.0                 23000.0  448130642.0  ...   0  0   \n",
              "5                   640.0                   632.0   73058679.0  ...   0  0   \n",
              "\n",
              "   NC-17  Not Rated  PG  PG-13  Passed  R  Unrated  X  \n",
              "0      0          0   0      1       0  0        0  0  \n",
              "1      0          0   0      1       0  0        0  0  \n",
              "2      0          0   0      1       0  0        0  0  \n",
              "3      0          0   0      1       0  0        0  0  \n",
              "5      0          0   0      1       0  0        0  0  \n",
              "\n",
              "[5 rows x 22 columns]"
            ],
            "text/html": [
              "\n",
              "  <div id=\"df-e3edae05-af9c-4ca8-aad6-c05d7551c49e\">\n",
              "    <div class=\"colab-df-container\">\n",
              "      <div>\n",
              "<style scoped>\n",
              "    .dataframe tbody tr th:only-of-type {\n",
              "        vertical-align: middle;\n",
              "    }\n",
              "\n",
              "    .dataframe tbody tr th {\n",
              "        vertical-align: top;\n",
              "    }\n",
              "\n",
              "    .dataframe thead th {\n",
              "        text-align: right;\n",
              "    }\n",
              "</style>\n",
              "<table border=\"1\" class=\"dataframe\">\n",
              "  <thead>\n",
              "    <tr style=\"text-align: right;\">\n",
              "      <th></th>\n",
              "      <th>num_voted_users</th>\n",
              "      <th>budget_usd</th>\n",
              "      <th>title_year</th>\n",
              "      <th>duration_mins</th>\n",
              "      <th>actor_3_facebook_likes</th>\n",
              "      <th>cast_total_facebook_likes</th>\n",
              "      <th>director_facebook_likes</th>\n",
              "      <th>actor_1_facebook_likes</th>\n",
              "      <th>actor_2_facebook_likes</th>\n",
              "      <th>gross_usd</th>\n",
              "      <th>...</th>\n",
              "      <th>GP</th>\n",
              "      <th>M</th>\n",
              "      <th>NC-17</th>\n",
              "      <th>Not Rated</th>\n",
              "      <th>PG</th>\n",
              "      <th>PG-13</th>\n",
              "      <th>Passed</th>\n",
              "      <th>R</th>\n",
              "      <th>Unrated</th>\n",
              "      <th>X</th>\n",
              "    </tr>\n",
              "  </thead>\n",
              "  <tbody>\n",
              "    <tr>\n",
              "      <th>0</th>\n",
              "      <td>886204</td>\n",
              "      <td>237000000.0</td>\n",
              "      <td>2009</td>\n",
              "      <td>178.0</td>\n",
              "      <td>855.0</td>\n",
              "      <td>4834</td>\n",
              "      <td>0.0</td>\n",
              "      <td>1000.0</td>\n",
              "      <td>936.0</td>\n",
              "      <td>760505847.0</td>\n",
              "      <td>...</td>\n",
              "      <td>0</td>\n",
              "      <td>0</td>\n",
              "      <td>0</td>\n",
              "      <td>0</td>\n",
              "      <td>0</td>\n",
              "      <td>1</td>\n",
              "      <td>0</td>\n",
              "      <td>0</td>\n",
              "      <td>0</td>\n",
              "      <td>0</td>\n",
              "    </tr>\n",
              "    <tr>\n",
              "      <th>1</th>\n",
              "      <td>471220</td>\n",
              "      <td>300000000.0</td>\n",
              "      <td>2007</td>\n",
              "      <td>169.0</td>\n",
              "      <td>1000.0</td>\n",
              "      <td>48350</td>\n",
              "      <td>563.0</td>\n",
              "      <td>40000.0</td>\n",
              "      <td>5000.0</td>\n",
              "      <td>309404152.0</td>\n",
              "      <td>...</td>\n",
              "      <td>0</td>\n",
              "      <td>0</td>\n",
              "      <td>0</td>\n",
              "      <td>0</td>\n",
              "      <td>0</td>\n",
              "      <td>1</td>\n",
              "      <td>0</td>\n",
              "      <td>0</td>\n",
              "      <td>0</td>\n",
              "      <td>0</td>\n",
              "    </tr>\n",
              "    <tr>\n",
              "      <th>2</th>\n",
              "      <td>275868</td>\n",
              "      <td>245000000.0</td>\n",
              "      <td>2015</td>\n",
              "      <td>148.0</td>\n",
              "      <td>161.0</td>\n",
              "      <td>11700</td>\n",
              "      <td>0.0</td>\n",
              "      <td>11000.0</td>\n",
              "      <td>393.0</td>\n",
              "      <td>200074175.0</td>\n",
              "      <td>...</td>\n",
              "      <td>0</td>\n",
              "      <td>0</td>\n",
              "      <td>0</td>\n",
              "      <td>0</td>\n",
              "      <td>0</td>\n",
              "      <td>1</td>\n",
              "      <td>0</td>\n",
              "      <td>0</td>\n",
              "      <td>0</td>\n",
              "      <td>0</td>\n",
              "    </tr>\n",
              "    <tr>\n",
              "      <th>3</th>\n",
              "      <td>1144337</td>\n",
              "      <td>250000000.0</td>\n",
              "      <td>2012</td>\n",
              "      <td>164.0</td>\n",
              "      <td>23000.0</td>\n",
              "      <td>106759</td>\n",
              "      <td>22000.0</td>\n",
              "      <td>27000.0</td>\n",
              "      <td>23000.0</td>\n",
              "      <td>448130642.0</td>\n",
              "      <td>...</td>\n",
              "      <td>0</td>\n",
              "      <td>0</td>\n",
              "      <td>0</td>\n",
              "      <td>0</td>\n",
              "      <td>0</td>\n",
              "      <td>1</td>\n",
              "      <td>0</td>\n",
              "      <td>0</td>\n",
              "      <td>0</td>\n",
              "      <td>0</td>\n",
              "    </tr>\n",
              "    <tr>\n",
              "      <th>5</th>\n",
              "      <td>212204</td>\n",
              "      <td>263700000.0</td>\n",
              "      <td>2012</td>\n",
              "      <td>132.0</td>\n",
              "      <td>530.0</td>\n",
              "      <td>1873</td>\n",
              "      <td>475.0</td>\n",
              "      <td>640.0</td>\n",
              "      <td>632.0</td>\n",
              "      <td>73058679.0</td>\n",
              "      <td>...</td>\n",
              "      <td>0</td>\n",
              "      <td>0</td>\n",
              "      <td>0</td>\n",
              "      <td>0</td>\n",
              "      <td>0</td>\n",
              "      <td>1</td>\n",
              "      <td>0</td>\n",
              "      <td>0</td>\n",
              "      <td>0</td>\n",
              "      <td>0</td>\n",
              "    </tr>\n",
              "  </tbody>\n",
              "</table>\n",
              "<p>5 rows × 22 columns</p>\n",
              "</div>\n",
              "      <button class=\"colab-df-convert\" onclick=\"convertToInteractive('df-e3edae05-af9c-4ca8-aad6-c05d7551c49e')\"\n",
              "              title=\"Convert this dataframe to an interactive table.\"\n",
              "              style=\"display:none;\">\n",
              "        \n",
              "  <svg xmlns=\"http://www.w3.org/2000/svg\" height=\"24px\"viewBox=\"0 0 24 24\"\n",
              "       width=\"24px\">\n",
              "    <path d=\"M0 0h24v24H0V0z\" fill=\"none\"/>\n",
              "    <path d=\"M18.56 5.44l.94 2.06.94-2.06 2.06-.94-2.06-.94-.94-2.06-.94 2.06-2.06.94zm-11 1L8.5 8.5l.94-2.06 2.06-.94-2.06-.94L8.5 2.5l-.94 2.06-2.06.94zm10 10l.94 2.06.94-2.06 2.06-.94-2.06-.94-.94-2.06-.94 2.06-2.06.94z\"/><path d=\"M17.41 7.96l-1.37-1.37c-.4-.4-.92-.59-1.43-.59-.52 0-1.04.2-1.43.59L10.3 9.45l-7.72 7.72c-.78.78-.78 2.05 0 2.83L4 21.41c.39.39.9.59 1.41.59.51 0 1.02-.2 1.41-.59l7.78-7.78 2.81-2.81c.8-.78.8-2.07 0-2.86zM5.41 20L4 18.59l7.72-7.72 1.47 1.35L5.41 20z\"/>\n",
              "  </svg>\n",
              "      </button>\n",
              "      \n",
              "  <style>\n",
              "    .colab-df-container {\n",
              "      display:flex;\n",
              "      flex-wrap:wrap;\n",
              "      gap: 12px;\n",
              "    }\n",
              "\n",
              "    .colab-df-convert {\n",
              "      background-color: #E8F0FE;\n",
              "      border: none;\n",
              "      border-radius: 50%;\n",
              "      cursor: pointer;\n",
              "      display: none;\n",
              "      fill: #1967D2;\n",
              "      height: 32px;\n",
              "      padding: 0 0 0 0;\n",
              "      width: 32px;\n",
              "    }\n",
              "\n",
              "    .colab-df-convert:hover {\n",
              "      background-color: #E2EBFA;\n",
              "      box-shadow: 0px 1px 2px rgba(60, 64, 67, 0.3), 0px 1px 3px 1px rgba(60, 64, 67, 0.15);\n",
              "      fill: #174EA6;\n",
              "    }\n",
              "\n",
              "    [theme=dark] .colab-df-convert {\n",
              "      background-color: #3B4455;\n",
              "      fill: #D2E3FC;\n",
              "    }\n",
              "\n",
              "    [theme=dark] .colab-df-convert:hover {\n",
              "      background-color: #434B5C;\n",
              "      box-shadow: 0px 1px 3px 1px rgba(0, 0, 0, 0.15);\n",
              "      filter: drop-shadow(0px 1px 2px rgba(0, 0, 0, 0.3));\n",
              "      fill: #FFFFFF;\n",
              "    }\n",
              "  </style>\n",
              "\n",
              "      <script>\n",
              "        const buttonEl =\n",
              "          document.querySelector('#df-e3edae05-af9c-4ca8-aad6-c05d7551c49e button.colab-df-convert');\n",
              "        buttonEl.style.display =\n",
              "          google.colab.kernel.accessAllowed ? 'block' : 'none';\n",
              "\n",
              "        async function convertToInteractive(key) {\n",
              "          const element = document.querySelector('#df-e3edae05-af9c-4ca8-aad6-c05d7551c49e');\n",
              "          const dataTable =\n",
              "            await google.colab.kernel.invokeFunction('convertToInteractive',\n",
              "                                                     [key], {});\n",
              "          if (!dataTable) return;\n",
              "\n",
              "          const docLinkHtml = 'Like what you see? Visit the ' +\n",
              "            '<a target=\"_blank\" href=https://colab.research.google.com/notebooks/data_table.ipynb>data table notebook</a>'\n",
              "            + ' to learn more about interactive tables.';\n",
              "          element.innerHTML = '';\n",
              "          dataTable['output_type'] = 'display_data';\n",
              "          await google.colab.output.renderOutput(dataTable, element);\n",
              "          const docLink = document.createElement('div');\n",
              "          docLink.innerHTML = docLinkHtml;\n",
              "          element.appendChild(docLink);\n",
              "        }\n",
              "      </script>\n",
              "    </div>\n",
              "  </div>\n",
              "  "
            ]
          },
          "metadata": {},
          "execution_count": 67
        }
      ]
    },
    {
      "cell_type": "markdown",
      "metadata": {
        "id": "pEyc_snwHPlt"
      },
      "source": [
        "## Selecting Features and Output\n",
        "We're just about ready for the machine learning phase of our project, but first we'll want to identify 2 different things:\n",
        "1. **Feature matrix**: this is the group of columns (features/variables/attributes) that will be used to determine our outcome.\n",
        "2. **Target array**: this is the series (target/label/outcome) that contains the information that we're ultimately trying to predict.\n",
        "\n",
        "So in this case, we're using the numerical data columns to predict the `gross_usd` revenue of the movies!"
      ]
    },
    {
      "cell_type": "code",
      "metadata": {
        "id": "_zvD-A3rWaxa"
      },
      "source": [
        "# Identifying our Feature set (X) and target (y) variables for modeling\n",
        "X = numerical_data.drop(['gross_usd'], axis=1)\n",
        "y = numerical_data['gross_usd']"
      ],
      "execution_count": null,
      "outputs": []
    },
    {
      "cell_type": "markdown",
      "metadata": {
        "id": "9ci7tGtolzas"
      },
      "source": [
        "Now that we have our data cleaned and features engineered, the final step before we can model is splitting the data into training sets and testing sets so we can evaluate the models.  We'll use the sklearn [`train_test_split`](https://scikit-learn.org/stable/modules/generated/sklearn.model_selection.train_test_split.html) function to do this, keeping 20% of the data in the test set, so we can train the model with 80% of the data. "
      ]
    },
    {
      "cell_type": "code",
      "metadata": {
        "id": "b1IIba5Mly0u"
      },
      "source": [
        "X_train, X_test, y_train, y_test = train_test_split(X, y, test_size=0.2, random_state=42)"
      ],
      "execution_count": null,
      "outputs": []
    },
    {
      "cell_type": "code",
      "source": [
        ""
      ],
      "metadata": {
        "id": "6B1oFWQzCyBL"
      },
      "execution_count": null,
      "outputs": []
    },
    {
      "cell_type": "markdown",
      "metadata": {
        "id": "z6gBiaVjnSVU"
      },
      "source": [
        "## Machine Learning Steps\n",
        "We always do 4 things when modeling:\n",
        "1. Instantiate the model (start it up)\n",
        "2. Fit the model using the `.fit()` function\n",
        "3. Make predictions using the `.predict()` function\n",
        "4. Evaluate the model using our chosen evaluation metrics\n",
        "\n",
        "We will do all of these steps for each model we've chosen to use today, linear regression, decision tree, and random forest."
      ]
    },
    {
      "cell_type": "markdown",
      "metadata": {
        "id": "jktE61oFnCeC"
      },
      "source": [
        "## Linear Regression\n",
        "\n",
        "A [linear regression](https://www.youtube.com/user/joshstarmer/search?query=linear+regression) model finds the line of best fit for the data.  \n",
        "\n",
        "This line of best fit has an equation similar to `y = mx+b`.  \n",
        "The line found by the model has a pre-determined `m` (slope), and `b` (intercept), so when you have a new input (`x`), your `y` is your prediction.\n",
        "\n",
        "Note that in this example, there is only one feature (`x`), but most models will use more features and therefore have more terms in the equation.\n",
        "\n",
        "[Linear Regression](https://scikit-learn.org/stable/modules/generated/sklearn.linear_model.LinearRegression.html) models are good for simple data sets and where a linear relationship exists.\n",
        "\n",
        "\n",
        "*Note: Detail on [how much math is needed for Data Science](https://www.thinkful.com/blog/math-needed-for-data-science/)*\n"
      ]
    },
    {
      "cell_type": "markdown",
      "metadata": {
        "id": "MTZ61kl5I70q"
      },
      "source": [
        "<div>\n",
        "<img src=\"https://mlfromscratch.com/content/images/2020/01/linearRegression2-3.png\" width=\"500\"/>\n",
        "</div>"
      ]
    },
    {
      "cell_type": "code",
      "metadata": {
        "id": "eKWhluI3Waki",
        "colab": {
          "base_uri": "https://localhost:8080/"
        },
        "outputId": "b22b571f-de81-4bb1-a4a1-e8f7a4b584be"
      },
      "source": [
        "from sklearn.linear_model import LinearRegression\n",
        "\n",
        "# Step 1: Instantiating the model\n",
        "lr = LinearRegression()\n",
        "\n",
        "# Step 2: Fit the model (note, we use the train set here)\n",
        "lr.fit(X_train, y_train)"
      ],
      "execution_count": null,
      "outputs": [
        {
          "output_type": "execute_result",
          "data": {
            "text/plain": [
              "LinearRegression()"
            ]
          },
          "metadata": {},
          "execution_count": 70
        }
      ]
    },
    {
      "cell_type": "markdown",
      "metadata": {
        "id": "FwMXXH01pZ5O"
      },
      "source": [
        "Now that we've trained the model, we can make predictions.  We will predict the `y`-values of the test set using the `.predict()` function and plot the predictions against the actuals to determine how well the model predicted the gross revenue of the movie.  \n",
        "\n",
        "Note: If the model was perfect at predicting the gross revenue of movies, the points would follow the red line (`y=x`)"
      ]
    },
    {
      "cell_type": "code",
      "metadata": {
        "id": "D7Fzyo5FY4p_",
        "colab": {
          "base_uri": "https://localhost:8080/",
          "height": 295
        },
        "outputId": "c773f1d5-5008-43de-c097-0998306857e3"
      },
      "source": [
        "# Step 3: Make predictions (note, we use the test set here)\n",
        "y_pred_lr = lr.predict(X_test)\n",
        "\n",
        "# Plot predicted values versus actual values\n",
        "plt.scatter(y_test, y_pred_lr)\n",
        "plt.plot([0,8e8], [0,8e8], linestyle='-', color='red')\n",
        "plt.xlabel('Actual')\n",
        "plt.ylabel('Predicted')\n",
        "plt.title('Predicted and Actual Gross Revenue - Linear Regression');"
      ],
      "execution_count": null,
      "outputs": [
        {
          "output_type": "display_data",
          "data": {
            "text/plain": [
              "<Figure size 432x288 with 1 Axes>"
            ],
            "image/png": "[encoded data removed]"
          },
          "metadata": {
            "needs_background": "light"
          }
        }
      ]
    },
    {
      "cell_type": "markdown",
      "metadata": {
        "id": "ZPQZp2mOqFJv"
      },
      "source": [
        "We can see that the model did an okay job of predicting the gross revenues of movies that had a lower revenue, but it wasn't able to predict the output of the higher grossing movies.\n",
        "\n",
        "Let's evaluate our model using both R-squared ($R^2$) and [`Root`](https://numpy.org/doc/1.18/reference/generated/numpy.sqrt.html) [`Mean Squared Error`](https://scikit-learn.org/stable/modules/generated/sklearn.metrics.mean_squared_error.html) (RMSE).  As a reminder, models that can explain more variance in the data have $R^2$ values closer to 1, and lower RMSE means that the data is concentrated more closely around the line of best fit."
      ]
    },
    {
      "cell_type": "code",
      "metadata": {
        "id": "kbXTYHHdWaCA",
        "colab": {
          "base_uri": "https://localhost:8080/"
        },
        "outputId": "dd763b41-6c6a-4bd5-f963-aa67c1fa4f28"
      },
      "source": [
        "# Step 4: Evaluate the model (note, we use the test set here)\n",
        "print('Evaluating the Linear Regression Model')\n",
        "lr_r2 = lr.score(X_test, y_test)\n",
        "print('R Squared: \\t\\t\\t', lr_r2)\n",
        "\n",
        "lr_rmse = np.sqrt(mean_squared_error(y_test, y_pred_lr))\n",
        "print('Root Mean Squared Error: \\t', lr_rmse)\n"
      ],
      "execution_count": null,
      "outputs": [
        {
          "output_type": "stream",
          "name": "stdout",
          "text": [
            "Evaluating the Linear Regression Model\n",
            "R Squared: \t\t\t 0.645686270620162\n",
            "Root Mean Squared Error: \t 44554523.46653792\n"
          ]
        }
      ]
    },
    {
      "cell_type": "markdown",
      "metadata": {
        "id": "LYm0-7LLNkiv"
      },
      "source": [
        "Great - we'll compare these evaluation metrics to the other models we are going to try. \n",
        "\n",
        "To help us understand how the model is making predictions, we can check out the Linear Regression's intercept and coefficients."
      ]
    },
    {
      "cell_type": "code",
      "metadata": {
        "id": "2c8cCYwHooOB",
        "colab": {
          "base_uri": "https://localhost:8080/",
          "height": 725
        },
        "outputId": "cd9800a2-dbea-496f-fdd6-70d267fdaea7"
      },
      "source": [
        "# Interpreting how the model is making predictions\n",
        "# Linear regression models give the coefficients (m), and intercept (b)\n",
        "coefs = pd.DataFrame(zip(X.columns, lr.coef_), \n",
        "                     columns=['Feature Names', 'Coefficients'])\n",
        "print('Intercept: ', lr.intercept_)\n",
        "coefs.sort_values('Coefficients', ascending=False)"
      ],
      "execution_count": null,
      "outputs": [
        {
          "output_type": "stream",
          "name": "stdout",
          "text": [
            "Intercept:  1059323346.792335\n"
          ]
        },
        {
          "output_type": "execute_result",
          "data": {
            "text/plain": [
              "                Feature Names  Coefficients\n",
              "10                          G  2.889602e+07\n",
              "15                         PG  2.059314e+07\n",
              "12                          M  1.895191e+07\n",
              "16                      PG-13  7.330727e+06\n",
              "9                    Approved  7.125392e+06\n",
              "11                         GP  6.849369e+06\n",
              "5   cast_total_facebook_likes  6.986317e+03\n",
              "0             num_voted_users  2.143448e+02\n",
              "1                  budget_usd  6.455568e-01\n",
              "6     director_facebook_likes -9.546552e+02\n",
              "8      actor_2_facebook_likes -6.385319e+03\n",
              "7      actor_1_facebook_likes -7.101853e+03\n",
              "4      actor_3_facebook_likes -9.202697e+03\n",
              "3               duration_mins -6.430023e+04\n",
              "2                  title_year -5.268329e+05\n",
              "18                          R -6.435144e+06\n",
              "14                  Not Rated -6.580866e+06\n",
              "19                    Unrated -7.860975e+06\n",
              "20                          X -1.075192e+07\n",
              "13                      NC-17 -1.280283e+07\n",
              "17                     Passed -4.531482e+07"
            ],
            "text/html": [
              "\n",
              "  <div id=\"df-8bdb628c-68c0-40a7-b202-2ff5628682e9\">\n",
              "    <div class=\"colab-df-container\">\n",
              "      <div>\n",
              "<style scoped>\n",
              "    .dataframe tbody tr th:only-of-type {\n",
              "        vertical-align: middle;\n",
              "    }\n",
              "\n",
              "    .dataframe tbody tr th {\n",
              "        vertical-align: top;\n",
              "    }\n",
              "\n",
              "    .dataframe thead th {\n",
              "        text-align: right;\n",
              "    }\n",
              "</style>\n",
              "<table border=\"1\" class=\"dataframe\">\n",
              "  <thead>\n",
              "    <tr style=\"text-align: right;\">\n",
              "      <th></th>\n",
              "      <th>Feature Names</th>\n",
              "      <th>Coefficients</th>\n",
              "    </tr>\n",
              "  </thead>\n",
              "  <tbody>\n",
              "    <tr>\n",
              "      <th>10</th>\n",
              "      <td>G</td>\n",
              "      <td>2.889602e+07</td>\n",
              "    </tr>\n",
              "    <tr>\n",
              "      <th>15</th>\n",
              "      <td>PG</td>\n",
              "      <td>2.059314e+07</td>\n",
              "    </tr>\n",
              "    <tr>\n",
              "      <th>12</th>\n",
              "      <td>M</td>\n",
              "      <td>1.895191e+07</td>\n",
              "    </tr>\n",
              "    <tr>\n",
              "      <th>16</th>\n",
              "      <td>PG-13</td>\n",
              "      <td>7.330727e+06</td>\n",
              "    </tr>\n",
              "    <tr>\n",
              "      <th>9</th>\n",
              "      <td>Approved</td>\n",
              "      <td>7.125392e+06</td>\n",
              "    </tr>\n",
              "    <tr>\n",
              "      <th>11</th>\n",
              "      <td>GP</td>\n",
              "      <td>6.849369e+06</td>\n",
              "    </tr>\n",
              "    <tr>\n",
              "      <th>5</th>\n",
              "      <td>cast_total_facebook_likes</td>\n",
              "      <td>6.986317e+03</td>\n",
              "    </tr>\n",
              "    <tr>\n",
              "      <th>0</th>\n",
              "      <td>num_voted_users</td>\n",
              "      <td>2.143448e+02</td>\n",
              "    </tr>\n",
              "    <tr>\n",
              "      <th>1</th>\n",
              "      <td>budget_usd</td>\n",
              "      <td>6.455568e-01</td>\n",
              "    </tr>\n",
              "    <tr>\n",
              "      <th>6</th>\n",
              "      <td>director_facebook_likes</td>\n",
              "      <td>-9.546552e+02</td>\n",
              "    </tr>\n",
              "    <tr>\n",
              "      <th>8</th>\n",
              "      <td>actor_2_facebook_likes</td>\n",
              "      <td>-6.385319e+03</td>\n",
              "    </tr>\n",
              "    <tr>\n",
              "      <th>7</th>\n",
              "      <td>actor_1_facebook_likes</td>\n",
              "      <td>-7.101853e+03</td>\n",
              "    </tr>\n",
              "    <tr>\n",
              "      <th>4</th>\n",
              "      <td>actor_3_facebook_likes</td>\n",
              "      <td>-9.202697e+03</td>\n",
              "    </tr>\n",
              "    <tr>\n",
              "      <th>3</th>\n",
              "      <td>duration_mins</td>\n",
              "      <td>-6.430023e+04</td>\n",
              "    </tr>\n",
              "    <tr>\n",
              "      <th>2</th>\n",
              "      <td>title_year</td>\n",
              "      <td>-5.268329e+05</td>\n",
              "    </tr>\n",
              "    <tr>\n",
              "      <th>18</th>\n",
              "      <td>R</td>\n",
              "      <td>-6.435144e+06</td>\n",
              "    </tr>\n",
              "    <tr>\n",
              "      <th>14</th>\n",
              "      <td>Not Rated</td>\n",
              "      <td>-6.580866e+06</td>\n",
              "    </tr>\n",
              "    <tr>\n",
              "      <th>19</th>\n",
              "      <td>Unrated</td>\n",
              "      <td>-7.860975e+06</td>\n",
              "    </tr>\n",
              "    <tr>\n",
              "      <th>20</th>\n",
              "      <td>X</td>\n",
              "      <td>-1.075192e+07</td>\n",
              "    </tr>\n",
              "    <tr>\n",
              "      <th>13</th>\n",
              "      <td>NC-17</td>\n",
              "      <td>-1.280283e+07</td>\n",
              "    </tr>\n",
              "    <tr>\n",
              "      <th>17</th>\n",
              "      <td>Passed</td>\n",
              "      <td>-4.531482e+07</td>\n",
              "    </tr>\n",
              "  </tbody>\n",
              "</table>\n",
              "</div>\n",
              "      <button class=\"colab-df-convert\" onclick=\"convertToInteractive('df-8bdb628c-68c0-40a7-b202-2ff5628682e9')\"\n",
              "              title=\"Convert this dataframe to an interactive table.\"\n",
              "              style=\"display:none;\">\n",
              "        \n",
              "  <svg xmlns=\"http://www.w3.org/2000/svg\" height=\"24px\"viewBox=\"0 0 24 24\"\n",
              "       width=\"24px\">\n",
              "    <path d=\"M0 0h24v24H0V0z\" fill=\"none\"/>\n",
              "    <path d=\"M18.56 5.44l.94 2.06.94-2.06 2.06-.94-2.06-.94-.94-2.06-.94 2.06-2.06.94zm-11 1L8.5 8.5l.94-2.06 2.06-.94-2.06-.94L8.5 2.5l-.94 2.06-2.06.94zm10 10l.94 2.06.94-2.06 2.06-.94-2.06-.94-.94-2.06-.94 2.06-2.06.94z\"/><path d=\"M17.41 7.96l-1.37-1.37c-.4-.4-.92-.59-1.43-.59-.52 0-1.04.2-1.43.59L10.3 9.45l-7.72 7.72c-.78.78-.78 2.05 0 2.83L4 21.41c.39.39.9.59 1.41.59.51 0 1.02-.2 1.41-.59l7.78-7.78 2.81-2.81c.8-.78.8-2.07 0-2.86zM5.41 20L4 18.59l7.72-7.72 1.47 1.35L5.41 20z\"/>\n",
              "  </svg>\n",
              "      </button>\n",
              "      \n",
              "  <style>\n",
              "    .colab-df-container {\n",
              "      display:flex;\n",
              "      flex-wrap:wrap;\n",
              "      gap: 12px;\n",
              "    }\n",
              "\n",
              "    .colab-df-convert {\n",
              "      background-color: #E8F0FE;\n",
              "      border: none;\n",
              "      border-radius: 50%;\n",
              "      cursor: pointer;\n",
              "      display: none;\n",
              "      fill: #1967D2;\n",
              "      height: 32px;\n",
              "      padding: 0 0 0 0;\n",
              "      width: 32px;\n",
              "    }\n",
              "\n",
              "    .colab-df-convert:hover {\n",
              "      background-color: #E2EBFA;\n",
              "      box-shadow: 0px 1px 2px rgba(60, 64, 67, 0.3), 0px 1px 3px 1px rgba(60, 64, 67, 0.15);\n",
              "      fill: #174EA6;\n",
              "    }\n",
              "\n",
              "    [theme=dark] .colab-df-convert {\n",
              "      background-color: #3B4455;\n",
              "      fill: #D2E3FC;\n",
              "    }\n",
              "\n",
              "    [theme=dark] .colab-df-convert:hover {\n",
              "      background-color: #434B5C;\n",
              "      box-shadow: 0px 1px 3px 1px rgba(0, 0, 0, 0.15);\n",
              "      filter: drop-shadow(0px 1px 2px rgba(0, 0, 0, 0.3));\n",
              "      fill: #FFFFFF;\n",
              "    }\n",
              "  </style>\n",
              "\n",
              "      <script>\n",
              "        const buttonEl =\n",
              "          document.querySelector('#df-8bdb628c-68c0-40a7-b202-2ff5628682e9 button.colab-df-convert');\n",
              "        buttonEl.style.display =\n",
              "          google.colab.kernel.accessAllowed ? 'block' : 'none';\n",
              "\n",
              "        async function convertToInteractive(key) {\n",
              "          const element = document.querySelector('#df-8bdb628c-68c0-40a7-b202-2ff5628682e9');\n",
              "          const dataTable =\n",
              "            await google.colab.kernel.invokeFunction('convertToInteractive',\n",
              "                                                     [key], {});\n",
              "          if (!dataTable) return;\n",
              "\n",
              "          const docLinkHtml = 'Like what you see? Visit the ' +\n",
              "            '<a target=\"_blank\" href=https://colab.research.google.com/notebooks/data_table.ipynb>data table notebook</a>'\n",
              "            + ' to learn more about interactive tables.';\n",
              "          element.innerHTML = '';\n",
              "          dataTable['output_type'] = 'display_data';\n",
              "          await google.colab.output.renderOutput(dataTable, element);\n",
              "          const docLink = document.createElement('div');\n",
              "          docLink.innerHTML = docLinkHtml;\n",
              "          element.appendChild(docLink);\n",
              "        }\n",
              "      </script>\n",
              "    </div>\n",
              "  </div>\n",
              "  "
            ]
          },
          "metadata": {},
          "execution_count": 73
        }
      ]
    },
    {
      "cell_type": "code",
      "source": [
        "feature_importances = coefs.sort_values('Coefficients', ascending=False).set_index(\"Feature Names\").copy(deep=True)\n",
        "feature_importances['Coefficients'] = feature_importances['Coefficients'].apply(lambda x: abs(x))\n",
        "print(feature_importances.describe())\n",
        "feature_importances[feature_importances['Coefficients'] > 7e3].plot.bar()"
      ],
      "metadata": {
        "colab": {
          "base_uri": "https://localhost:8080/",
          "height": 572
        },
        "id": "Saboawh_FjC5",
        "outputId": "1b576992-9134-4aa9-baf7-8f3675cfbc11"
      },
      "execution_count": null,
      "outputs": [
        {
          "output_type": "stream",
          "name": "stdout",
          "text": [
            "       Coefficients\n",
            "count  2.100000e+01\n",
            "mean   8.576909e+06\n",
            "std    1.162878e+07\n",
            "min    6.455568e-01\n",
            "25%    7.101853e+03\n",
            "50%    6.580866e+06\n",
            "75%    1.075192e+07\n",
            "max    4.531482e+07\n"
          ]
        },
        {
          "output_type": "execute_result",
          "data": {
            "text/plain": [
              "<matplotlib.axes._subplots.AxesSubplot at 0x7f3b71d11fd0>"
            ]
          },
          "metadata": {},
          "execution_count": 74
        },
        {
          "output_type": "display_data",
          "data": {
            "text/plain": [
              "<Figure size 432x288 with 1 Axes>"
            ],
            "image/png": "[encoded data removed]"
          },
          "metadata": {
            "needs_background": "light"
          }
        }
      ]
    },
    {
      "cell_type": "markdown",
      "metadata": {
        "id": "MvwArAu6s-tl"
      },
      "source": [
        "So what does this mean?\n",
        "\n",
        "The `intercept` is the gross revenue of a movie before you take into account any of the features of the movie.  Then each `coefficient` represents the amount of change in the gross revenue for each feature.  \n",
        "\n",
        "Linear Regression models are great for being able to explain exactly how the model made its predictions. "
      ]
    },
    {
      "cell_type": "markdown",
      "metadata": {
        "id": "lnWZMxwAqOSU"
      },
      "source": [
        "## Decision Tree\n",
        "Decision Trees in classification problems are like flow charts where the model takes the data from the past to figure out the best split points to predict what category the data is in.  \n",
        "\n",
        "In regression, the model does the same, but instead of predicting the category, the numerical values at the end of the flow chart (leaves) are averaged to determine the predicted value.  \n",
        "\n",
        "In the example below, the `Windy = FALSE` number of hours played are all averaged to get the prediction value of 47.7 hours.\n",
        "And the `Windy = TRUE` hours played are averaged to get the prediction value of 26.5 hours.\n",
        "\n",
        "[Decision trees](https://scikit-learn.org/stable/modules/generated/sklearn.tree.DecisionTreeRegressor.html) are good for non-linear relationships, but can be prone to overfitting (the model predicts too closely to the training set).\n"
      ]
    },
    {
      "cell_type": "markdown",
      "metadata": {
        "id": "iBFj_pMtSDED"
      },
      "source": [
        "<div>\n",
        "<img src=\"https://www.saedsayad.com/images/Decision_tree_r8.png\" width=\"700\"/>\n",
        "</div>"
      ]
    },
    {
      "cell_type": "code",
      "metadata": {
        "id": "PjxZWzotqRWT",
        "colab": {
          "base_uri": "https://localhost:8080/"
        },
        "outputId": "da1a68f4-9eb5-427b-b275-f826cbb94a5e"
      },
      "source": [
        "from sklearn.tree import DecisionTreeRegressor\n",
        "\n",
        "# Step 1: Instantiating the model\n",
        "dt = DecisionTreeRegressor(random_state=42)\n",
        "\n",
        "# Step 2: Fit the model (note, we use the train set here)\n",
        "dt.fit(X_train, y_train)"
      ],
      "execution_count": null,
      "outputs": [
        {
          "output_type": "execute_result",
          "data": {
            "text/plain": [
              "DecisionTreeRegressor(random_state=42)"
            ]
          },
          "metadata": {},
          "execution_count": 75
        }
      ]
    },
    {
      "cell_type": "code",
      "metadata": {
        "id": "LikAuCDVqRJe",
        "colab": {
          "base_uri": "https://localhost:8080/",
          "height": 295
        },
        "outputId": "703ecd75-131c-4be0-d034-349f89fc40f5"
      },
      "source": [
        "# Step 3: Make predictions (note, we use the test set here)\n",
        "y_pred_dt = dt.predict(X_test)\n",
        "\n",
        "# Plot predicted values versus actual values\n",
        "plt.scatter(y_test, y_pred_dt)\n",
        "plt.plot([0,8e8], [0,8e8], linestyle='-', color='red')\n",
        "plt.xlabel('Actual')\n",
        "plt.ylabel('Predicted')\n",
        "plt.title('Predicted and Actual Gross Revenue - Decision Tree');"
      ],
      "execution_count": null,
      "outputs": [
        {
          "output_type": "display_data",
          "data": {
            "text/plain": [
              "<Figure size 432x288 with 1 Axes>"
            ],
            "image/png": "[encoded data removed]"
          },
          "metadata": {
            "needs_background": "light"
          }
        }
      ]
    },
    {
      "cell_type": "markdown",
      "metadata": {
        "id": "Op9HX54cT4KB"
      },
      "source": [
        "Visually, this model was a little better at predicting the higher grossing movies than the linear regression model, but is worse at predicting the lower grossing movies.  Let's check out the evaluation metrics."
      ]
    },
    {
      "cell_type": "code",
      "metadata": {
        "id": "67x3bCzmqRQI",
        "colab": {
          "base_uri": "https://localhost:8080/"
        },
        "outputId": "2dfac260-b84d-45c4-84fc-009dec32334e"
      },
      "source": [
        "# Step 4: Evaluate the model (note, we use the test set here)\n",
        "print('Evaluating the Decision Tree Model')\n",
        "dt_r2 = dt.score(X_test, y_test)\n",
        "print('R Squared: \\t\\t\\t', dt_r2)\n",
        "dt_rmse = np.sqrt(mean_squared_error(y_test, y_pred_dt))\n",
        "print('Root Mean Squared Error: \\t', dt_rmse)\n"
      ],
      "execution_count": null,
      "outputs": [
        {
          "output_type": "stream",
          "name": "stdout",
          "text": [
            "Evaluating the Decision Tree Model\n",
            "R Squared: \t\t\t 0.45109955184271455\n",
            "Root Mean Squared Error: \t 55455497.41376493\n"
          ]
        }
      ]
    },
    {
      "cell_type": "markdown",
      "metadata": {
        "id": "H2TZWYGVVSXh"
      },
      "source": [
        "This Decision Tree has a lower $R^2$ and a higher RMSE than the linear regression, so our visual representation of the predictions matches with the evaluation metrics.\n",
        "\n",
        "Now for tree-based models, there aren't coefficients to explain the predictions, but they **do** have feature importances, which represent how much each feature (column/variable) impacts the predition.  Feature importances are values between 0 and 1, with higher values representing features that are more valuable in making predictions.  However, this does NOT represent if the feature is important in increasing or decreasing the predicted value."
      ]
    },
    {
      "cell_type": "code",
      "metadata": {
        "id": "hEDGHSd8qRUe",
        "colab": {
          "base_uri": "https://localhost:8080/",
          "height": 708
        },
        "outputId": "6da77340-99ea-4477-be54-5f35538a8390"
      },
      "source": [
        "# Interpreting how the model is making predictions\n",
        "# Decision trees calculate the importance of features \n",
        "#(doesn't speak to directionality)\n",
        "import_dt = pd.DataFrame(zip(X.columns, dt.feature_importances_, ),\n",
        "                         columns=['Feature Names', 'Feature Importances'])\n",
        "import_dt.sort_values('Feature Importances', ascending=False)"
      ],
      "execution_count": null,
      "outputs": [
        {
          "output_type": "execute_result",
          "data": {
            "text/plain": [
              "                Feature Names  Feature Importances\n",
              "0             num_voted_users         5.115447e-01\n",
              "1                  budget_usd         1.901538e-01\n",
              "3               duration_mins         4.602532e-02\n",
              "2                  title_year         4.499737e-02\n",
              "5   cast_total_facebook_likes         3.431976e-02\n",
              "8      actor_2_facebook_likes         3.217917e-02\n",
              "7      actor_1_facebook_likes         3.148476e-02\n",
              "15                         PG         3.124115e-02\n",
              "6     director_facebook_likes         2.449783e-02\n",
              "4      actor_3_facebook_likes         2.367151e-02\n",
              "18                          R         2.334012e-02\n",
              "16                      PG-13         4.670355e-03\n",
              "10                          G         1.845459e-03\n",
              "11                         GP         1.510524e-05\n",
              "20                          X         1.152531e-05\n",
              "14                  Not Rated         2.059224e-06\n",
              "19                    Unrated         5.223708e-08\n",
              "13                      NC-17         0.000000e+00\n",
              "12                          M         0.000000e+00\n",
              "17                     Passed         0.000000e+00\n",
              "9                    Approved         0.000000e+00"
            ],
            "text/html": [
              "\n",
              "  <div id=\"df-4cd91d55-c97c-4ddd-b6ca-04ac578283a1\">\n",
              "    <div class=\"colab-df-container\">\n",
              "      <div>\n",
              "<style scoped>\n",
              "    .dataframe tbody tr th:only-of-type {\n",
              "        vertical-align: middle;\n",
              "    }\n",
              "\n",
              "    .dataframe tbody tr th {\n",
              "        vertical-align: top;\n",
              "    }\n",
              "\n",
              "    .dataframe thead th {\n",
              "        text-align: right;\n",
              "    }\n",
              "</style>\n",
              "<table border=\"1\" class=\"dataframe\">\n",
              "  <thead>\n",
              "    <tr style=\"text-align: right;\">\n",
              "      <th></th>\n",
              "      <th>Feature Names</th>\n",
              "      <th>Feature Importances</th>\n",
              "    </tr>\n",
              "  </thead>\n",
              "  <tbody>\n",
              "    <tr>\n",
              "      <th>0</th>\n",
              "      <td>num_voted_users</td>\n",
              "      <td>5.115447e-01</td>\n",
              "    </tr>\n",
              "    <tr>\n",
              "      <th>1</th>\n",
              "      <td>budget_usd</td>\n",
              "      <td>1.901538e-01</td>\n",
              "    </tr>\n",
              "    <tr>\n",
              "      <th>3</th>\n",
              "      <td>duration_mins</td>\n",
              "      <td>4.602532e-02</td>\n",
              "    </tr>\n",
              "    <tr>\n",
              "      <th>2</th>\n",
              "      <td>title_year</td>\n",
              "      <td>4.499737e-02</td>\n",
              "    </tr>\n",
              "    <tr>\n",
              "      <th>5</th>\n",
              "      <td>cast_total_facebook_likes</td>\n",
              "      <td>3.431976e-02</td>\n",
              "    </tr>\n",
              "    <tr>\n",
              "      <th>8</th>\n",
              "      <td>actor_2_facebook_likes</td>\n",
              "      <td>3.217917e-02</td>\n",
              "    </tr>\n",
              "    <tr>\n",
              "      <th>7</th>\n",
              "      <td>actor_1_facebook_likes</td>\n",
              "      <td>3.148476e-02</td>\n",
              "    </tr>\n",
              "    <tr>\n",
              "      <th>15</th>\n",
              "      <td>PG</td>\n",
              "      <td>3.124115e-02</td>\n",
              "    </tr>\n",
              "    <tr>\n",
              "      <th>6</th>\n",
              "      <td>director_facebook_likes</td>\n",
              "      <td>2.449783e-02</td>\n",
              "    </tr>\n",
              "    <tr>\n",
              "      <th>4</th>\n",
              "      <td>actor_3_facebook_likes</td>\n",
              "      <td>2.367151e-02</td>\n",
              "    </tr>\n",
              "    <tr>\n",
              "      <th>18</th>\n",
              "      <td>R</td>\n",
              "      <td>2.334012e-02</td>\n",
              "    </tr>\n",
              "    <tr>\n",
              "      <th>16</th>\n",
              "      <td>PG-13</td>\n",
              "      <td>4.670355e-03</td>\n",
              "    </tr>\n",
              "    <tr>\n",
              "      <th>10</th>\n",
              "      <td>G</td>\n",
              "      <td>1.845459e-03</td>\n",
              "    </tr>\n",
              "    <tr>\n",
              "      <th>11</th>\n",
              "      <td>GP</td>\n",
              "      <td>1.510524e-05</td>\n",
              "    </tr>\n",
              "    <tr>\n",
              "      <th>20</th>\n",
              "      <td>X</td>\n",
              "      <td>1.152531e-05</td>\n",
              "    </tr>\n",
              "    <tr>\n",
              "      <th>14</th>\n",
              "      <td>Not Rated</td>\n",
              "      <td>2.059224e-06</td>\n",
              "    </tr>\n",
              "    <tr>\n",
              "      <th>19</th>\n",
              "      <td>Unrated</td>\n",
              "      <td>5.223708e-08</td>\n",
              "    </tr>\n",
              "    <tr>\n",
              "      <th>13</th>\n",
              "      <td>NC-17</td>\n",
              "      <td>0.000000e+00</td>\n",
              "    </tr>\n",
              "    <tr>\n",
              "      <th>12</th>\n",
              "      <td>M</td>\n",
              "      <td>0.000000e+00</td>\n",
              "    </tr>\n",
              "    <tr>\n",
              "      <th>17</th>\n",
              "      <td>Passed</td>\n",
              "      <td>0.000000e+00</td>\n",
              "    </tr>\n",
              "    <tr>\n",
              "      <th>9</th>\n",
              "      <td>Approved</td>\n",
              "      <td>0.000000e+00</td>\n",
              "    </tr>\n",
              "  </tbody>\n",
              "</table>\n",
              "</div>\n",
              "      <button class=\"colab-df-convert\" onclick=\"convertToInteractive('df-4cd91d55-c97c-4ddd-b6ca-04ac578283a1')\"\n",
              "              title=\"Convert this dataframe to an interactive table.\"\n",
              "              style=\"display:none;\">\n",
              "        \n",
              "  <svg xmlns=\"http://www.w3.org/2000/svg\" height=\"24px\"viewBox=\"0 0 24 24\"\n",
              "       width=\"24px\">\n",
              "    <path d=\"M0 0h24v24H0V0z\" fill=\"none\"/>\n",
              "    <path d=\"M18.56 5.44l.94 2.06.94-2.06 2.06-.94-2.06-.94-.94-2.06-.94 2.06-2.06.94zm-11 1L8.5 8.5l.94-2.06 2.06-.94-2.06-.94L8.5 2.5l-.94 2.06-2.06.94zm10 10l.94 2.06.94-2.06 2.06-.94-2.06-.94-.94-2.06-.94 2.06-2.06.94z\"/><path d=\"M17.41 7.96l-1.37-1.37c-.4-.4-.92-.59-1.43-.59-.52 0-1.04.2-1.43.59L10.3 9.45l-7.72 7.72c-.78.78-.78 2.05 0 2.83L4 21.41c.39.39.9.59 1.41.59.51 0 1.02-.2 1.41-.59l7.78-7.78 2.81-2.81c.8-.78.8-2.07 0-2.86zM5.41 20L4 18.59l7.72-7.72 1.47 1.35L5.41 20z\"/>\n",
              "  </svg>\n",
              "      </button>\n",
              "      \n",
              "  <style>\n",
              "    .colab-df-container {\n",
              "      display:flex;\n",
              "      flex-wrap:wrap;\n",
              "      gap: 12px;\n",
              "    }\n",
              "\n",
              "    .colab-df-convert {\n",
              "      background-color: #E8F0FE;\n",
              "      border: none;\n",
              "      border-radius: 50%;\n",
              "      cursor: pointer;\n",
              "      display: none;\n",
              "      fill: #1967D2;\n",
              "      height: 32px;\n",
              "      padding: 0 0 0 0;\n",
              "      width: 32px;\n",
              "    }\n",
              "\n",
              "    .colab-df-convert:hover {\n",
              "      background-color: #E2EBFA;\n",
              "      box-shadow: 0px 1px 2px rgba(60, 64, 67, 0.3), 0px 1px 3px 1px rgba(60, 64, 67, 0.15);\n",
              "      fill: #174EA6;\n",
              "    }\n",
              "\n",
              "    [theme=dark] .colab-df-convert {\n",
              "      background-color: #3B4455;\n",
              "      fill: #D2E3FC;\n",
              "    }\n",
              "\n",
              "    [theme=dark] .colab-df-convert:hover {\n",
              "      background-color: #434B5C;\n",
              "      box-shadow: 0px 1px 3px 1px rgba(0, 0, 0, 0.15);\n",
              "      filter: drop-shadow(0px 1px 2px rgba(0, 0, 0, 0.3));\n",
              "      fill: #FFFFFF;\n",
              "    }\n",
              "  </style>\n",
              "\n",
              "      <script>\n",
              "        const buttonEl =\n",
              "          document.querySelector('#df-4cd91d55-c97c-4ddd-b6ca-04ac578283a1 button.colab-df-convert');\n",
              "        buttonEl.style.display =\n",
              "          google.colab.kernel.accessAllowed ? 'block' : 'none';\n",
              "\n",
              "        async function convertToInteractive(key) {\n",
              "          const element = document.querySelector('#df-4cd91d55-c97c-4ddd-b6ca-04ac578283a1');\n",
              "          const dataTable =\n",
              "            await google.colab.kernel.invokeFunction('convertToInteractive',\n",
              "                                                     [key], {});\n",
              "          if (!dataTable) return;\n",
              "\n",
              "          const docLinkHtml = 'Like what you see? Visit the ' +\n",
              "            '<a target=\"_blank\" href=https://colab.research.google.com/notebooks/data_table.ipynb>data table notebook</a>'\n",
              "            + ' to learn more about interactive tables.';\n",
              "          element.innerHTML = '';\n",
              "          dataTable['output_type'] = 'display_data';\n",
              "          await google.colab.output.renderOutput(dataTable, element);\n",
              "          const docLink = document.createElement('div');\n",
              "          docLink.innerHTML = docLinkHtml;\n",
              "          element.appendChild(docLink);\n",
              "        }\n",
              "      </script>\n",
              "    </div>\n",
              "  </div>\n",
              "  "
            ]
          },
          "metadata": {},
          "execution_count": 78
        }
      ]
    },
    {
      "cell_type": "markdown",
      "metadata": {
        "id": "H8pr8-JktPep"
      },
      "source": [
        "This means that for this Decision Tree model the feature `num_voted_users` is the most important in predicting `gross_usd` revenue. And all of the features that have feature importances of 0 are not used to generate predictions for this model."
      ]
    },
    {
      "cell_type": "markdown",
      "metadata": {
        "id": "is4Gn9lXrJm8"
      },
      "source": [
        "## Random Forest\n",
        "\n",
        "A Random Forest model takes the great parts of the Decision Tree, and removes a lot of the risk of overfitting.  \n",
        "\n",
        "The model creates a bunch of Decision Tree predictions, and the resulting prediction is the average of all of the predictions for regression and the most often (mode) predictions for classification.  \n",
        "\n",
        "[Random Forest](https://scikit-learn.org/stable/modules/generated/sklearn.ensemble.RandomForestRegressor.html) models are good for complex datasets and when you have a large amount of data."
      ]
    },
    {
      "cell_type": "markdown",
      "metadata": {
        "id": "LqIrrFEAncD2"
      },
      "source": [
        "<div>\n",
        "<img src=\"https://miro.medium.com/max/2612/0*f_qQPFpdofWGLQqc.png\" width=\"500\"/>\n",
        "</div>"
      ]
    },
    {
      "cell_type": "code",
      "metadata": {
        "id": "WPN1tEF5qQ-_",
        "colab": {
          "base_uri": "https://localhost:8080/"
        },
        "outputId": "981b5cf2-8216-4c14-cea3-dedf9eb26c55"
      },
      "source": [
        "from sklearn.ensemble import RandomForestRegressor\n",
        "\n",
        "# Step 1: Instantiating the model\n",
        "rfr = RandomForestRegressor(random_state=42)\n",
        "\n",
        "# Step 2: Fit the model (note, we use the train set here)\n",
        "rfr.fit(X_train, y_train)"
      ],
      "execution_count": null,
      "outputs": [
        {
          "output_type": "execute_result",
          "data": {
            "text/plain": [
              "RandomForestRegressor(random_state=42)"
            ]
          },
          "metadata": {},
          "execution_count": 79
        }
      ]
    },
    {
      "cell_type": "code",
      "metadata": {
        "id": "Dsp27CyUsFHl",
        "colab": {
          "base_uri": "https://localhost:8080/",
          "height": 295
        },
        "outputId": "4720e8e2-af3f-4a96-c0d2-4c209f8f4411"
      },
      "source": [
        "# Step 3: Make predictions (note, we use the test set here)\n",
        "y_pred_rf = rfr.predict(X_test)\n",
        "\n",
        "# Plot predicted values versus actual values\n",
        "plt.scatter(y_test, y_pred_rf)\n",
        "plt.plot([0,8e8], [0,8e8], linestyle='-', color='red')\n",
        "plt.xlabel('Actual')\n",
        "plt.ylabel('Predicted')\n",
        "plt.title('Predicted and Actual Gross Revenue - Random Forest');"
      ],
      "execution_count": null,
      "outputs": [
        {
          "output_type": "display_data",
          "data": {
            "text/plain": [
              "<Figure size 432x288 with 1 Axes>"
            ],
            "image/png": "[encoded data removed]"
          },
          "metadata": {
            "needs_background": "light"
          }
        }
      ]
    },
    {
      "cell_type": "markdown",
      "metadata": {
        "id": "lsoDaUU7iJSQ"
      },
      "source": [
        "Again, the Random Forest model isn't good at predicting the higher grossing movies, but is fairly good at predicting the lower grossing movies.  Visually, it's hard to tell the difference between how the Random Forest and the Linear Regression model predicted `gross_usd`."
      ]
    },
    {
      "cell_type": "code",
      "metadata": {
        "id": "EkfrreQqsFbl",
        "colab": {
          "base_uri": "https://localhost:8080/"
        },
        "outputId": "747e3db7-1757-42f7-b3c5-560f193d13a6"
      },
      "source": [
        "# Step 4: Evaluate the model (note, we use the test set here)\n",
        "print('Evaluating the Random Forest Model')\n",
        "rf_r2 = rfr.score(X_test, y_test)\n",
        "print('R Squared: \\t\\t\\t', rf_r2)\n",
        "rf_rmse = np.sqrt(mean_squared_error(y_test, y_pred_rf))\n",
        "print('Root Mean Squared Error: \\t', rf_rmse)"
      ],
      "execution_count": null,
      "outputs": [
        {
          "output_type": "stream",
          "name": "stdout",
          "text": [
            "Evaluating the Random Forest Model\n",
            "R Squared: \t\t\t 0.6794289699895489\n",
            "Root Mean Squared Error: \t 42379902.05997906\n"
          ]
        }
      ]
    },
    {
      "cell_type": "markdown",
      "metadata": {
        "id": "aQLVM-pCkZfH"
      },
      "source": [
        "This has a similar $R^2$ value as the Decision Tree, but a much lower RMSE. More on that in a minute.\n",
        "\n",
        "Random Forests are also tree-based, so use the same feature importances as Decision Trees to explain how they make predictions."
      ]
    },
    {
      "cell_type": "code",
      "metadata": {
        "id": "Cj_68aARqQ2O",
        "colab": {
          "base_uri": "https://localhost:8080/",
          "height": 708
        },
        "outputId": "c8b34205-897a-4ab4-9e1f-4337176b40a1"
      },
      "source": [
        "# Interpreting how the model is making predictions\n",
        "# Decision trees calculate the importance of features \n",
        "#(doesn't speak to directionality)\n",
        "import_rf = pd.DataFrame(zip(X.columns, rfr.feature_importances_ ), \n",
        "                         columns=['Feature Names', 'Feature Importances'])\n",
        "import_rf.sort_values('Feature Importances', ascending=False)"
      ],
      "execution_count": null,
      "outputs": [
        {
          "output_type": "execute_result",
          "data": {
            "text/plain": [
              "                Feature Names  Feature Importances\n",
              "0             num_voted_users         4.801619e-01\n",
              "1                  budget_usd         2.216169e-01\n",
              "2                  title_year         5.513896e-02\n",
              "3               duration_mins         4.271489e-02\n",
              "18                          R         3.108509e-02\n",
              "5   cast_total_facebook_likes         3.025614e-02\n",
              "4      actor_3_facebook_likes         2.958528e-02\n",
              "6     director_facebook_likes         2.887046e-02\n",
              "8      actor_2_facebook_likes         2.783351e-02\n",
              "7      actor_1_facebook_likes         2.370099e-02\n",
              "15                         PG         2.066093e-02\n",
              "16                      PG-13         4.632525e-03\n",
              "10                          G         3.515125e-03\n",
              "9                    Approved         9.681427e-05\n",
              "12                          M         5.326574e-05\n",
              "19                    Unrated         2.306017e-05\n",
              "14                  Not Rated         1.946205e-05\n",
              "20                          X         1.340412e-05\n",
              "13                      NC-17         1.107392e-05\n",
              "17                     Passed         9.860513e-06\n",
              "11                         GP         3.959949e-07"
            ],
            "text/html": [
              "\n",
              "  <div id=\"df-4a3800ce-6c74-4a68-938c-40924e97c822\">\n",
              "    <div class=\"colab-df-container\">\n",
              "      <div>\n",
              "<style scoped>\n",
              "    .dataframe tbody tr th:only-of-type {\n",
              "        vertical-align: middle;\n",
              "    }\n",
              "\n",
              "    .dataframe tbody tr th {\n",
              "        vertical-align: top;\n",
              "    }\n",
              "\n",
              "    .dataframe thead th {\n",
              "        text-align: right;\n",
              "    }\n",
              "</style>\n",
              "<table border=\"1\" class=\"dataframe\">\n",
              "  <thead>\n",
              "    <tr style=\"text-align: right;\">\n",
              "      <th></th>\n",
              "      <th>Feature Names</th>\n",
              "      <th>Feature Importances</th>\n",
              "    </tr>\n",
              "  </thead>\n",
              "  <tbody>\n",
              "    <tr>\n",
              "      <th>0</th>\n",
              "      <td>num_voted_users</td>\n",
              "      <td>4.801619e-01</td>\n",
              "    </tr>\n",
              "    <tr>\n",
              "      <th>1</th>\n",
              "      <td>budget_usd</td>\n",
              "      <td>2.216169e-01</td>\n",
              "    </tr>\n",
              "    <tr>\n",
              "      <th>2</th>\n",
              "      <td>title_year</td>\n",
              "      <td>5.513896e-02</td>\n",
              "    </tr>\n",
              "    <tr>\n",
              "      <th>3</th>\n",
              "      <td>duration_mins</td>\n",
              "      <td>4.271489e-02</td>\n",
              "    </tr>\n",
              "    <tr>\n",
              "      <th>18</th>\n",
              "      <td>R</td>\n",
              "      <td>3.108509e-02</td>\n",
              "    </tr>\n",
              "    <tr>\n",
              "      <th>5</th>\n",
              "      <td>cast_total_facebook_likes</td>\n",
              "      <td>3.025614e-02</td>\n",
              "    </tr>\n",
              "    <tr>\n",
              "      <th>4</th>\n",
              "      <td>actor_3_facebook_likes</td>\n",
              "      <td>2.958528e-02</td>\n",
              "    </tr>\n",
              "    <tr>\n",
              "      <th>6</th>\n",
              "      <td>director_facebook_likes</td>\n",
              "      <td>2.887046e-02</td>\n",
              "    </tr>\n",
              "    <tr>\n",
              "      <th>8</th>\n",
              "      <td>actor_2_facebook_likes</td>\n",
              "      <td>2.783351e-02</td>\n",
              "    </tr>\n",
              "    <tr>\n",
              "      <th>7</th>\n",
              "      <td>actor_1_facebook_likes</td>\n",
              "      <td>2.370099e-02</td>\n",
              "    </tr>\n",
              "    <tr>\n",
              "      <th>15</th>\n",
              "      <td>PG</td>\n",
              "      <td>2.066093e-02</td>\n",
              "    </tr>\n",
              "    <tr>\n",
              "      <th>16</th>\n",
              "      <td>PG-13</td>\n",
              "      <td>4.632525e-03</td>\n",
              "    </tr>\n",
              "    <tr>\n",
              "      <th>10</th>\n",
              "      <td>G</td>\n",
              "      <td>3.515125e-03</td>\n",
              "    </tr>\n",
              "    <tr>\n",
              "      <th>9</th>\n",
              "      <td>Approved</td>\n",
              "      <td>9.681427e-05</td>\n",
              "    </tr>\n",
              "    <tr>\n",
              "      <th>12</th>\n",
              "      <td>M</td>\n",
              "      <td>5.326574e-05</td>\n",
              "    </tr>\n",
              "    <tr>\n",
              "      <th>19</th>\n",
              "      <td>Unrated</td>\n",
              "      <td>2.306017e-05</td>\n",
              "    </tr>\n",
              "    <tr>\n",
              "      <th>14</th>\n",
              "      <td>Not Rated</td>\n",
              "      <td>1.946205e-05</td>\n",
              "    </tr>\n",
              "    <tr>\n",
              "      <th>20</th>\n",
              "      <td>X</td>\n",
              "      <td>1.340412e-05</td>\n",
              "    </tr>\n",
              "    <tr>\n",
              "      <th>13</th>\n",
              "      <td>NC-17</td>\n",
              "      <td>1.107392e-05</td>\n",
              "    </tr>\n",
              "    <tr>\n",
              "      <th>17</th>\n",
              "      <td>Passed</td>\n",
              "      <td>9.860513e-06</td>\n",
              "    </tr>\n",
              "    <tr>\n",
              "      <th>11</th>\n",
              "      <td>GP</td>\n",
              "      <td>3.959949e-07</td>\n",
              "    </tr>\n",
              "  </tbody>\n",
              "</table>\n",
              "</div>\n",
              "      <button class=\"colab-df-convert\" onclick=\"convertToInteractive('df-4a3800ce-6c74-4a68-938c-40924e97c822')\"\n",
              "              title=\"Convert this dataframe to an interactive table.\"\n",
              "              style=\"display:none;\">\n",
              "        \n",
              "  <svg xmlns=\"http://www.w3.org/2000/svg\" height=\"24px\"viewBox=\"0 0 24 24\"\n",
              "       width=\"24px\">\n",
              "    <path d=\"M0 0h24v24H0V0z\" fill=\"none\"/>\n",
              "    <path d=\"M18.56 5.44l.94 2.06.94-2.06 2.06-.94-2.06-.94-.94-2.06-.94 2.06-2.06.94zm-11 1L8.5 8.5l.94-2.06 2.06-.94-2.06-.94L8.5 2.5l-.94 2.06-2.06.94zm10 10l.94 2.06.94-2.06 2.06-.94-2.06-.94-.94-2.06-.94 2.06-2.06.94z\"/><path d=\"M17.41 7.96l-1.37-1.37c-.4-.4-.92-.59-1.43-.59-.52 0-1.04.2-1.43.59L10.3 9.45l-7.72 7.72c-.78.78-.78 2.05 0 2.83L4 21.41c.39.39.9.59 1.41.59.51 0 1.02-.2 1.41-.59l7.78-7.78 2.81-2.81c.8-.78.8-2.07 0-2.86zM5.41 20L4 18.59l7.72-7.72 1.47 1.35L5.41 20z\"/>\n",
              "  </svg>\n",
              "      </button>\n",
              "      \n",
              "  <style>\n",
              "    .colab-df-container {\n",
              "      display:flex;\n",
              "      flex-wrap:wrap;\n",
              "      gap: 12px;\n",
              "    }\n",
              "\n",
              "    .colab-df-convert {\n",
              "      background-color: #E8F0FE;\n",
              "      border: none;\n",
              "      border-radius: 50%;\n",
              "      cursor: pointer;\n",
              "      display: none;\n",
              "      fill: #1967D2;\n",
              "      height: 32px;\n",
              "      padding: 0 0 0 0;\n",
              "      width: 32px;\n",
              "    }\n",
              "\n",
              "    .colab-df-convert:hover {\n",
              "      background-color: #E2EBFA;\n",
              "      box-shadow: 0px 1px 2px rgba(60, 64, 67, 0.3), 0px 1px 3px 1px rgba(60, 64, 67, 0.15);\n",
              "      fill: #174EA6;\n",
              "    }\n",
              "\n",
              "    [theme=dark] .colab-df-convert {\n",
              "      background-color: #3B4455;\n",
              "      fill: #D2E3FC;\n",
              "    }\n",
              "\n",
              "    [theme=dark] .colab-df-convert:hover {\n",
              "      background-color: #434B5C;\n",
              "      box-shadow: 0px 1px 3px 1px rgba(0, 0, 0, 0.15);\n",
              "      filter: drop-shadow(0px 1px 2px rgba(0, 0, 0, 0.3));\n",
              "      fill: #FFFFFF;\n",
              "    }\n",
              "  </style>\n",
              "\n",
              "      <script>\n",
              "        const buttonEl =\n",
              "          document.querySelector('#df-4a3800ce-6c74-4a68-938c-40924e97c822 button.colab-df-convert');\n",
              "        buttonEl.style.display =\n",
              "          google.colab.kernel.accessAllowed ? 'block' : 'none';\n",
              "\n",
              "        async function convertToInteractive(key) {\n",
              "          const element = document.querySelector('#df-4a3800ce-6c74-4a68-938c-40924e97c822');\n",
              "          const dataTable =\n",
              "            await google.colab.kernel.invokeFunction('convertToInteractive',\n",
              "                                                     [key], {});\n",
              "          if (!dataTable) return;\n",
              "\n",
              "          const docLinkHtml = 'Like what you see? Visit the ' +\n",
              "            '<a target=\"_blank\" href=https://colab.research.google.com/notebooks/data_table.ipynb>data table notebook</a>'\n",
              "            + ' to learn more about interactive tables.';\n",
              "          element.innerHTML = '';\n",
              "          dataTable['output_type'] = 'display_data';\n",
              "          await google.colab.output.renderOutput(dataTable, element);\n",
              "          const docLink = document.createElement('div');\n",
              "          docLink.innerHTML = docLinkHtml;\n",
              "          element.appendChild(docLink);\n",
              "        }\n",
              "      </script>\n",
              "    </div>\n",
              "  </div>\n",
              "  "
            ]
          },
          "metadata": {},
          "execution_count": 82
        }
      ]
    },
    {
      "cell_type": "code",
      "source": [
        "import_rf.sort_values('Feature Importances', ascending=False).set_index(\"Feature Names\").plot.bar()\n"
      ],
      "metadata": {
        "colab": {
          "base_uri": "https://localhost:8080/",
          "height": 416
        },
        "id": "1GN8bSDPNlYu",
        "outputId": "bde7bcd5-1ef6-4a95-c82a-d059a8e5404c"
      },
      "execution_count": null,
      "outputs": [
        {
          "output_type": "execute_result",
          "data": {
            "text/plain": [
              "<matplotlib.axes._subplots.AxesSubplot at 0x7f3b718ccd10>"
            ]
          },
          "metadata": {},
          "execution_count": 83
        },
        {
          "output_type": "display_data",
          "data": {
            "text/plain": [
              "<Figure size 432x288 with 1 Axes>"
            ],
            "image/png": "[encoded data removed]"
          },
          "metadata": {
            "needs_background": "light"
          }
        }
      ]
    },
    {
      "cell_type": "markdown",
      "metadata": {
        "id": "xcVzUdI_uTvP"
      },
      "source": [
        "Again, the `num_voted_users` feature is the most important in making predictions.  Note that the features that previously had feature importances of 0 are now no-zero because multiple Decision Trees are used in creating the Random Forest, so some trees might have used those features."
      ]
    },
    {
      "cell_type": "markdown",
      "metadata": {
        "id": "bpIhYPuklgIb"
      },
      "source": [
        "## Comparing the Models\n",
        "\n",
        "Now that we've trained three different models, let's compare their predictive ability so we can decide which model to use to make our predictions."
      ]
    },
    {
      "cell_type": "code",
      "metadata": {
        "id": "Bmf2ruzAuXy0",
        "colab": {
          "base_uri": "https://localhost:8080/",
          "height": 143
        },
        "outputId": "7aa9bd6d-ca89-4693-e5a4-1a0150452510"
      },
      "source": [
        "# Setting up our evaluation metrics so we can compare\n",
        "r2s = [lr_r2, dt_r2, rf_r2]\n",
        "rmses = [lr_rmse, dt_rmse, rf_rmse]\n",
        "model_names = ['Linear Regression', 'Decision Tree', 'Random Forest']\n",
        "# Putting all of the metrics together\n",
        "comparison = pd.DataFrame(zip(model_names, r2s, rmses),\n",
        "                           columns=['Model', 'R-squared Score', 'RMSE'])\n",
        "comparison"
      ],
      "execution_count": null,
      "outputs": [
        {
          "output_type": "execute_result",
          "data": {
            "text/plain": [
              "               Model  R-squared Score          RMSE\n",
              "0  Linear Regression         0.645686  4.455452e+07\n",
              "1      Decision Tree         0.451100  5.545550e+07\n",
              "2      Random Forest         0.679429  4.237990e+07"
            ],
            "text/html": [
              "\n",
              "  <div id=\"df-0527031b-9113-4370-99b4-27d6f4826c65\">\n",
              "    <div class=\"colab-df-container\">\n",
              "      <div>\n",
              "<style scoped>\n",
              "    .dataframe tbody tr th:only-of-type {\n",
              "        vertical-align: middle;\n",
              "    }\n",
              "\n",
              "    .dataframe tbody tr th {\n",
              "        vertical-align: top;\n",
              "    }\n",
              "\n",
              "    .dataframe thead th {\n",
              "        text-align: right;\n",
              "    }\n",
              "</style>\n",
              "<table border=\"1\" class=\"dataframe\">\n",
              "  <thead>\n",
              "    <tr style=\"text-align: right;\">\n",
              "      <th></th>\n",
              "      <th>Model</th>\n",
              "      <th>R-squared Score</th>\n",
              "      <th>RMSE</th>\n",
              "    </tr>\n",
              "  </thead>\n",
              "  <tbody>\n",
              "    <tr>\n",
              "      <th>0</th>\n",
              "      <td>Linear Regression</td>\n",
              "      <td>0.645686</td>\n",
              "      <td>4.455452e+07</td>\n",
              "    </tr>\n",
              "    <tr>\n",
              "      <th>1</th>\n",
              "      <td>Decision Tree</td>\n",
              "      <td>0.451100</td>\n",
              "      <td>5.545550e+07</td>\n",
              "    </tr>\n",
              "    <tr>\n",
              "      <th>2</th>\n",
              "      <td>Random Forest</td>\n",
              "      <td>0.679429</td>\n",
              "      <td>4.237990e+07</td>\n",
              "    </tr>\n",
              "  </tbody>\n",
              "</table>\n",
              "</div>\n",
              "      <button class=\"colab-df-convert\" onclick=\"convertToInteractive('df-0527031b-9113-4370-99b4-27d6f4826c65')\"\n",
              "              title=\"Convert this dataframe to an interactive table.\"\n",
              "              style=\"display:none;\">\n",
              "        \n",
              "  <svg xmlns=\"http://www.w3.org/2000/svg\" height=\"24px\"viewBox=\"0 0 24 24\"\n",
              "       width=\"24px\">\n",
              "    <path d=\"M0 0h24v24H0V0z\" fill=\"none\"/>\n",
              "    <path d=\"M18.56 5.44l.94 2.06.94-2.06 2.06-.94-2.06-.94-.94-2.06-.94 2.06-2.06.94zm-11 1L8.5 8.5l.94-2.06 2.06-.94-2.06-.94L8.5 2.5l-.94 2.06-2.06.94zm10 10l.94 2.06.94-2.06 2.06-.94-2.06-.94-.94-2.06-.94 2.06-2.06.94z\"/><path d=\"M17.41 7.96l-1.37-1.37c-.4-.4-.92-.59-1.43-.59-.52 0-1.04.2-1.43.59L10.3 9.45l-7.72 7.72c-.78.78-.78 2.05 0 2.83L4 21.41c.39.39.9.59 1.41.59.51 0 1.02-.2 1.41-.59l7.78-7.78 2.81-2.81c.8-.78.8-2.07 0-2.86zM5.41 20L4 18.59l7.72-7.72 1.47 1.35L5.41 20z\"/>\n",
              "  </svg>\n",
              "      </button>\n",
              "      \n",
              "  <style>\n",
              "    .colab-df-container {\n",
              "      display:flex;\n",
              "      flex-wrap:wrap;\n",
              "      gap: 12px;\n",
              "    }\n",
              "\n",
              "    .colab-df-convert {\n",
              "      background-color: #E8F0FE;\n",
              "      border: none;\n",
              "      border-radius: 50%;\n",
              "      cursor: pointer;\n",
              "      display: none;\n",
              "      fill: #1967D2;\n",
              "      height: 32px;\n",
              "      padding: 0 0 0 0;\n",
              "      width: 32px;\n",
              "    }\n",
              "\n",
              "    .colab-df-convert:hover {\n",
              "      background-color: #E2EBFA;\n",
              "      box-shadow: 0px 1px 2px rgba(60, 64, 67, 0.3), 0px 1px 3px 1px rgba(60, 64, 67, 0.15);\n",
              "      fill: #174EA6;\n",
              "    }\n",
              "\n",
              "    [theme=dark] .colab-df-convert {\n",
              "      background-color: #3B4455;\n",
              "      fill: #D2E3FC;\n",
              "    }\n",
              "\n",
              "    [theme=dark] .colab-df-convert:hover {\n",
              "      background-color: #434B5C;\n",
              "      box-shadow: 0px 1px 3px 1px rgba(0, 0, 0, 0.15);\n",
              "      filter: drop-shadow(0px 1px 2px rgba(0, 0, 0, 0.3));\n",
              "      fill: #FFFFFF;\n",
              "    }\n",
              "  </style>\n",
              "\n",
              "      <script>\n",
              "        const buttonEl =\n",
              "          document.querySelector('#df-0527031b-9113-4370-99b4-27d6f4826c65 button.colab-df-convert');\n",
              "        buttonEl.style.display =\n",
              "          google.colab.kernel.accessAllowed ? 'block' : 'none';\n",
              "\n",
              "        async function convertToInteractive(key) {\n",
              "          const element = document.querySelector('#df-0527031b-9113-4370-99b4-27d6f4826c65');\n",
              "          const dataTable =\n",
              "            await google.colab.kernel.invokeFunction('convertToInteractive',\n",
              "                                                     [key], {});\n",
              "          if (!dataTable) return;\n",
              "\n",
              "          const docLinkHtml = 'Like what you see? Visit the ' +\n",
              "            '<a target=\"_blank\" href=https://colab.research.google.com/notebooks/data_table.ipynb>data table notebook</a>'\n",
              "            + ' to learn more about interactive tables.';\n",
              "          element.innerHTML = '';\n",
              "          dataTable['output_type'] = 'display_data';\n",
              "          await google.colab.output.renderOutput(dataTable, element);\n",
              "          const docLink = document.createElement('div');\n",
              "          docLink.innerHTML = docLinkHtml;\n",
              "          element.appendChild(docLink);\n",
              "        }\n",
              "      </script>\n",
              "    </div>\n",
              "  </div>\n",
              "  "
            ]
          },
          "metadata": {},
          "execution_count": 84
        }
      ]
    },
    {
      "cell_type": "markdown",
      "metadata": {
        "id": "j-5-zDpsvlpv"
      },
      "source": [
        "The Random Forest model has the highest $R^2$ score, and the lowest RMSE, but we can only get feature importances, not exact coefficients from the model to explain how we got the predictions.\n",
        "\n",
        "**You be the judge:** Which model would you suggest to your boss that we should use to help make predictions about the gross revenue of a film? Why?"
      ]
    },
    {
      "cell_type": "markdown",
      "metadata": {
        "id": "0WqRnPfz82dp"
      },
      "source": [
        "# Take Home Challenge\n",
        "- Drop the features that you can only determine AFTER the movie premiers, and see how that impacts your model's predictions\n",
        "- Try out different models for predicting the gross revenue of a movie \n",
        "  - Try [learning about kNN Regression](https://www.analyticsvidhya.com/blog/2018/08/k-nearest-neighbor-introduction-regression-python/) (predictions are the average of the neighbors), and seeing how [kNN Regression](https://scikit-learn.org/stable/modules/generated/sklearn.neighbors.KNeighborsRegressor.html) works for this dataset. \n",
        "- Investigate outliers and clean or drop them and see how they impact the model predictions\n",
        "- Analyze your clean data (see Thinkful's Art of Visualization workshops/webinars for additional support)\n",
        "  - Drop features that are not related to `gross_usd` and see how it changes the model performance\n",
        "- Go back and impute some of the missing data that we dropped and see how that impacts the models\n",
        "- Continue to engineer features based on what you know about the subject and see how it impacts the models\n",
        "  - Maybe the era of the film might have something to do with the gross revenue.  The [history of film](http://www.historyoffilm.net/movie-eras/history-of-cinema/) documents the movie eras we can use to create our new feature along with Pandas [`.cut`](https://pandas.pydata.org/pandas-docs/stable/reference/api/pandas.cut.html) function.\n",
        "  - Here is some starter code to get the ball rolling:\n",
        "  - Identify the era of the film\n",
        "\n",
        "    era_bins = [0, 1910, 1926, 1940, 1954, 1976, 2000, 2100]\n",
        "\n",
        "    era_labels = ['pioneer', 'silent', 'talkies', 'golden_era','changes', 'dawn_modern_film', 'modern_film']\n",
        "\n",
        "    data['era'] = pd.cut(...)\n"
      ]
    },
    {
      "cell_type": "code",
      "metadata": {
        "id": "yKI6yF3cuRZp"
      },
      "source": [
        ""
      ],
      "execution_count": null,
      "outputs": []
    }
  ]
}